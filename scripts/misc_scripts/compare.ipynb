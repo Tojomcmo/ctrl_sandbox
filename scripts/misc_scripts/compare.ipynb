{
 "cells": [
  {
   "cell_type": "code",
   "execution_count": 23,
   "metadata": {},
   "outputs": [],
   "source": [
    "import numpy as np\n",
    "import mujoco as mujoco\n",
    "import matplotlib.pyplot as plt\n",
    "import matplotlib.animation as animate\n",
    "\n",
    "import mujoco_funcs as mj_funcs\n",
    "import mjcf_models as mj_models\n",
    "import visualize_mj_funcs as mj_vis\n",
    "\n",
    "import dyn_functions as dyn\n",
    "import visualize_dyn_funcs as vis_dyn\n",
    "import gen_ctrl_funcs as gen_ctrl\n",
    "import analyze_ilqr_output_funcs as analyze\n"
   ]
  },
  {
   "cell_type": "code",
   "execution_count": 24,
   "metadata": {},
   "outputs": [],
   "source": [
    "np.set_printoptions(precision=3, suppress=True, linewidth=100)\n",
    "\n",
    "mjcf_model  = mj_models.create_MJCF_double_pend_m_d_mod(1,1,1)\n",
    "model = mujoco.MjModel.from_xml_string(mjcf_model)\n",
    "data = mujoco.MjData(model)"
   ]
  },
  {
   "cell_type": "code",
   "execution_count": 34,
   "metadata": {},
   "outputs": [],
   "source": [
    "dt = 0.05\n",
    "len_seq = 200\n",
    "time_vec = np.arange(0,len_seq*dt, dt)\n",
    "h_bar = 1.0\n",
    "r_bar = 0.05\n",
    "m_bar = 1.0\n",
    "moi = (1/12)*h_bar*(m_bar**2 + 3*r_bar**2)\n",
    "x_init = np.array([0.0,0.0,0.0, 0.0])\n",
    "u_vec = np.array([10.0,0.0]) \n",
    "x_seq = np.zeros((len_seq, 4))\n",
    "x_seq[0]= x_init"
   ]
  },
  {
   "cell_type": "code",
   "execution_count": 35,
   "metadata": {},
   "outputs": [],
   "source": [
    "\n",
    "nu = model.nu\n",
    "nx = model.nv    \n",
    "eps = 1e-6\n",
    "A = np.zeros((2*nx, 2*nx))\n",
    "B = np.zeros((2*nx,   nu))\n",
    "flg_centered = False\n",
    "model.opt.timestep = dt\n",
    "data.ctrl = u_vec\n",
    "mujoco.mj_forward(model,data)\n",
    "\n",
    "#initial linearization and predictiuon\n",
    "state_vec = np.hstack((data.qpos.copy(), data.qvel.copy())).reshape(-1,1) \n",
    "control_vec = np.array(data.ctrl).reshape(-1,1)\n",
    "A, B = mj_funcs.linearize_mujoco_state_and_control(model, data, eps, flg_centered)    \n",
    "# mujoco.mjd_transitionFD(model, data, eps, flg_centered, A, B, None, None)\n",
    "state_next_pred = state_next_pred = (A @ state_vec) + (B @ control_vec)\n"
   ]
  },
  {
   "cell_type": "code",
   "execution_count": 37,
   "metadata": {},
   "outputs": [],
   "source": [
    "dpend_sys = dyn.double_pend_dyn(g=9.81, m1=m_bar, moi1=moi, d1=h_bar/2, l1=h_bar, \n",
    "                                        m2=m_bar, moi2=moi, d2=h_bar/2, l2=h_bar, \n",
    "                                        b1=0.0, b2=0.0, shoulder_act=True, elbow_act=True)\n",
    "disc_dyn_func = lambda x, u: gen_ctrl.step_rk4(dpend_sys.cont_dyn_func, dt, x, u)\n"
   ]
  },
  {
   "cell_type": "code",
   "execution_count": 38,
   "metadata": {},
   "outputs": [
    {
     "name": "stdout",
     "output_type": "stream",
     "text": [
      "A mujoco: \n",
      " [[ 0.969  0.031  0.05   0.   ]\n",
      " [ 0.042  0.885  0.     0.05 ]\n",
      " [-0.63   0.627  1.     0.   ]\n",
      " [ 0.838 -2.301  0.     1.   ]]\n",
      "A dyn: \n",
      " [[ 0.968  0.016  0.049  0.   ]\n",
      " [ 0.048  0.957  0.001  0.049]\n",
      " [-1.299  0.679  0.965  0.019]\n",
      " [ 1.967 -1.777  0.055  0.951]]\n",
      "B mujoco: \n",
      " [[ 0.004 -0.011]\n",
      " [-0.011  0.034]\n",
      " [ 0.085 -0.213]\n",
      " [-0.213  0.682]]\n",
      "B dyn: \n",
      " [[ 0.002 -0.005]\n",
      " [-0.003  0.012]\n",
      " [ 0.083 -0.207]\n",
      " [-0.124  0.456]]\n"
     ]
    }
   ],
   "source": [
    "A_mj,  B_mj  = mj_funcs.linearize_mujoco_state_and_control(model, data, eps, flg_centered)    \n",
    "A_dyn, B_dyn = gen_ctrl.linearize_dynamics(disc_dyn_func, x_init, u_vec)\n",
    "\n",
    "print('A mujoco: \\n', A_mj)\n",
    "print('A dyn: \\n',    A_dyn)\n",
    "print('B mujoco: \\n', B_mj )\n",
    "print('B dyn: \\n',    B_dyn)"
   ]
  },
  {
   "cell_type": "code",
   "execution_count": null,
   "metadata": {},
   "outputs": [],
   "source": []
  },
  {
   "cell_type": "code",
   "execution_count": null,
   "metadata": {},
   "outputs": [],
   "source": [
    "pot_energy_seq = np.zeros((len_seq,1))\n",
    "kin_energy_seq = np.zeros((len_seq,1))\n",
    "tot_energy_seq = np.zeros((len_seq,1))\n",
    "pot_energy_seq[0] = dpend_sys.calculate_potential_energy(x_init)\n",
    "kin_energy_seq[0] = dpend_sys.calculate_kinetic_energy(x_init)\n",
    "tot_energy_seq[0] = dpend_sys.calculate_total_energy(x_init)"
   ]
  }
 ],
 "metadata": {
  "kernelspec": {
   "display_name": ".venv",
   "language": "python",
   "name": "python3"
  },
  "language_info": {
   "codemirror_mode": {
    "name": "ipython",
    "version": 3
   },
   "file_extension": ".py",
   "mimetype": "text/x-python",
   "name": "python",
   "nbconvert_exporter": "python",
   "pygments_lexer": "ipython3",
   "version": "3.12.3"
  }
 },
 "nbformat": 4,
 "nbformat_minor": 2
}
