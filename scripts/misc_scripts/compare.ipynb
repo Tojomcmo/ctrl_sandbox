{
 "cells": [
  {
   "cell_type": "code",
   "execution_count": 29,
   "metadata": {},
   "outputs": [],
   "source": [
    "import numpy as np\n",
    "import mujoco as mujoco\n",
    "import matplotlib.pyplot as plt\n",
    "import matplotlib.animation as animate\n",
    "\n",
    "import mujoco_funcs as mj_funcs\n",
    "import mjcf_models as mj_models\n",
    "import visualize_mj_funcs as mj_vis\n",
    "\n",
    "import dyn_functions as dyn\n",
    "import visualize_dyn_funcs as vis_dyn\n",
    "import gen_ctrl_funcs as gen_ctrl\n",
    "import analyze_ilqr_output_funcs as analyze\n",
    "np.set_printoptions(precision=5, suppress=True, linewidth=100)\n"
   ]
  },
  {
   "cell_type": "code",
   "execution_count": 47,
   "metadata": {},
   "outputs": [],
   "source": [
    "dt = 0.01\n",
    "len_seq = 200\n",
    "time_vec = np.arange(0,len_seq*dt, dt)\n",
    "h_bar = 1.0\n",
    "r_bar = 0.05\n",
    "m_bar = 1.0\n",
    "moi = (1/12)*h_bar*(m_bar**2 + 3*r_bar**2)\n",
    "x_init = np.array([0.0,0.0,0.0, 0.0])\n",
    "u_vec = np.array([0.0,0.0]) \n",
    "x_seq = np.zeros((len_seq, 4))\n",
    "x_seq[0]= x_init"
   ]
  },
  {
   "cell_type": "code",
   "execution_count": 48,
   "metadata": {},
   "outputs": [],
   "source": [
    "mjcf_model  = mj_models.create_MJCF_double_pend_dev(1,1,1)\n",
    "mj_model, mj_render, mj_data = mj_funcs.create_mujoco_model(mjcf_model, dt)"
   ]
  },
  {
   "cell_type": "code",
   "execution_count": 49,
   "metadata": {},
   "outputs": [
    {
     "name": "stdout",
     "output_type": "stream",
     "text": [
      "[0. 0.]\n",
      "[0. 0.]\n"
     ]
    }
   ],
   "source": [
    "\n",
    "nu = mj_model.nu\n",
    "nx = mj_model.nv    \n",
    "eps = 1e-6\n",
    "A = np.zeros((2*nx, 2*nx))\n",
    "B = np.zeros((2*nx,   nu))\n",
    "flg_centered = False\n",
    "mj_model.opt.timestep = dt\n",
    "mj_data.ctrl = u_vec\n",
    "mujoco.mj_forward(mj_model,mj_data)\n",
    "print(mj_data.qpos)\n",
    "print(mj_data.qvel)"
   ]
  },
  {
   "cell_type": "code",
   "execution_count": 56,
   "metadata": {},
   "outputs": [],
   "source": [
    "dpend_sys = dyn.double_pend_rel_dyn(g=9.81, m1=m_bar, moi1=moi, d1=h_bar/2, l1=h_bar, \n",
    "                                            m2=m_bar, moi2=moi, d2=h_bar/2, l2=h_bar, \n",
    "                                        b1=0.0, b2=0.0, shoulder_act=True, elbow_act=True)\n",
    "disc_dyn_func = lambda x, u: gen_ctrl.step_rk4(dpend_sys.cont_dyn_func, dt, x, u)\n"
   ]
  },
  {
   "cell_type": "code",
   "execution_count": 57,
   "metadata": {},
   "outputs": [
    {
     "name": "stdout",
     "output_type": "stream",
     "text": [
      "A mujoco: \n",
      " [[ 0.99874  0.00125  0.01     0.     ]\n",
      " [ 0.00168  0.9954   0.       0.01   ]\n",
      " [-0.12591  0.12541  1.       0.     ]\n",
      " [ 0.16755 -0.46001  0.       1.     ]]\n",
      "A dyn: \n",
      " [[ 0.99937  0.00063  0.01     0.     ]\n",
      " [ 0.00084  0.9977   0.       0.00999]\n",
      " [-0.12587  0.12533  0.99937  0.00063]\n",
      " [ 0.16742 -0.45978  0.00084  0.9977 ]]\n",
      "B mujoco: \n",
      " [[ 0.00017 -0.00043]\n",
      " [-0.00043  0.00136]\n",
      " [ 0.01708 -0.04265]\n",
      " [-0.04265  0.13643]]\n",
      "B dyn: \n",
      " [[ 0.00009 -0.00021]\n",
      " [-0.00021  0.00068]\n",
      " [ 0.01707 -0.04262]\n",
      " [-0.04262  0.13636]]\n"
     ]
    }
   ],
   "source": [
    "A_mj,  B_mj  = mj_funcs.linearize_mujoco_state_and_control(mj_model, mj_data, eps, flg_centered)    \n",
    "A_dyn, B_dyn = gen_ctrl.linearize_dynamics(disc_dyn_func, x_init, u_vec)\n",
    "\n",
    "print('A mujoco: \\n', A_mj)\n",
    "print('A dyn: \\n',    A_dyn)\n",
    "print('B mujoco: \\n', B_mj )\n",
    "print('B dyn: \\n',    B_dyn)"
   ]
  },
  {
   "cell_type": "code",
   "execution_count": 28,
   "metadata": {},
   "outputs": [
    {
     "name": "stdout",
     "output_type": "stream",
     "text": [
      "A mujoco: \n",
      " [[ 0.999 -0.     0.01   0.   ]\n",
      " [ 0.002  1.    -0.     0.01 ]\n",
      " [-0.086 -0.017  1.     0.   ]\n",
      " [ 0.217 -0.007 -0.     1.   ]]\n",
      "A dyn: \n",
      " [[ 1.    -0.     0.01  -0.   ]\n",
      " [ 0.001  1.     0.     0.01 ]\n",
      " [-0.086 -0.017  0.999 -0.   ]\n",
      " [ 0.217 -0.007  0.003  1.   ]]\n",
      "B mujoco: \n",
      " [[ 0.    -0.   ]\n",
      " [-0.     0.001]\n",
      " [ 0.009 -0.016]\n",
      " [-0.016  0.059]]\n",
      "B dyn: \n",
      " [[ 0.    -0.   ]\n",
      " [-0.     0.   ]\n",
      " [ 0.009 -0.016]\n",
      " [-0.016  0.059]]\n"
     ]
    }
   ],
   "source": [
    "x_vec = np.array([1.0, 1.0, 0.0, 0.0])\n",
    "u_vec = np.array([0.0,0.0])\n",
    "mj_funcs.set_mj_ctrl_vec(mj_data, u_vec)\n",
    "mj_funcs.set_mj_state_vec(mj_data, x_vec)\n",
    "A_mj,  B_mj  = mj_funcs.linearize_mujoco_state_and_control(mj_model, mj_data, eps, flg_centered)    \n",
    "A_dyn, B_dyn = gen_ctrl.linearize_dynamics(disc_dyn_func, x_vec, u_vec)\n",
    "\n",
    "print('A mujoco: \\n', A_mj)\n",
    "print('A dyn: \\n',    A_dyn)\n",
    "print('B mujoco: \\n', B_mj )\n",
    "print('B dyn: \\n',    B_dyn)"
   ]
  },
  {
   "cell_type": "code",
   "execution_count": null,
   "metadata": {},
   "outputs": [],
   "source": [
    "pot_energy_seq = np.zeros((len_seq,1))\n",
    "kin_energy_seq = np.zeros((len_seq,1))\n",
    "tot_energy_seq = np.zeros((len_seq,1))\n",
    "pot_energy_seq[0] = dpend_sys.calculate_potential_energy(x_init)\n",
    "kin_energy_seq[0] = dpend_sys.calculate_kinetic_energy(x_init)\n",
    "tot_energy_seq[0] = dpend_sys.calculate_total_energy(x_init)"
   ]
  }
 ],
 "metadata": {
  "kernelspec": {
   "display_name": ".venv",
   "language": "python",
   "name": "python3"
  },
  "language_info": {
   "codemirror_mode": {
    "name": "ipython",
    "version": 3
   },
   "file_extension": ".py",
   "mimetype": "text/x-python",
   "name": "python",
   "nbconvert_exporter": "python",
   "pygments_lexer": "ipython3",
   "version": "3.12.3"
  }
 },
 "nbformat": 4,
 "nbformat_minor": 2
}
