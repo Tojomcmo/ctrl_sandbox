{
 "cells": [
  {
   "cell_type": "code",
   "execution_count": 1,
   "metadata": {},
   "outputs": [],
   "source": [
    "import numpy as np\n",
    "import mujoco as mujoco\n",
    "import matplotlib.pyplot as plt\n",
    "import matplotlib.animation as animate\n",
    "\n",
    "import mujoco_funcs as mj_funcs\n",
    "import mjcf_models as mj_models\n",
    "import visualize_mj_funcs as mj_vis\n",
    "\n",
    "import dyn_functions as dyn\n",
    "import visualize_dyn_funcs as vis_dyn\n",
    "import gen_ctrl_funcs as gen_ctrl\n",
    "import analyze_ilqr_output_funcs as analyze\n",
    "np.set_printoptions(precision=5, suppress=True, linewidth=100)\n"
   ]
  },
  {
   "cell_type": "code",
   "execution_count": 2,
   "metadata": {},
   "outputs": [],
   "source": [
    "dt = 0.05\n",
    "len_seq = 200\n",
    "time_vec = np.arange(0,len_seq*dt, dt)\n",
    "h_bar = 1.0\n",
    "r_bar = 0.05\n",
    "m_bar = 1.0\n",
    "moi = (1/12)*h_bar*(m_bar**2 + 3*r_bar**2)\n",
    "x_init = np.array([0.0,0.0,0.0, 0.0])\n",
    "u_vec = np.array([0.0]) \n",
    "x_seq = np.zeros((len_seq, 4))\n",
    "x_seq[0]= x_init"
   ]
  },
  {
   "cell_type": "code",
   "execution_count": 3,
   "metadata": {},
   "outputs": [],
   "source": [
    "mjcf_model  = mj_models.create_MJCF_double_pend_dev()\n",
    "mj_model, mj_render, mj_data = mj_funcs.create_mujoco_model(mjcf_model, dt)"
   ]
  },
  {
   "cell_type": "code",
   "execution_count": 4,
   "metadata": {},
   "outputs": [
    {
     "name": "stdout",
     "output_type": "stream",
     "text": [
      "[0. 0.]\n",
      "[0. 0.]\n",
      "[0.]\n"
     ]
    }
   ],
   "source": [
    "\n",
    "nu = mj_model.nu\n",
    "nx = mj_model.nv    \n",
    "eps = 1e-6\n",
    "A = np.zeros((2*nx, 2*nx))\n",
    "B = np.zeros((2*nx,   nu))\n",
    "flg_centered = False\n",
    "mj_model.opt.timestep = dt\n",
    "mj_data.ctrl = u_vec\n",
    "mujoco.mj_forward(mj_model,mj_data)\n",
    "print(mj_data.qpos)\n",
    "print(mj_data.qvel)\n",
    "print(mj_data.ctrl)"
   ]
  },
  {
   "cell_type": "code",
   "execution_count": 5,
   "metadata": {},
   "outputs": [],
   "source": [
    "dpend_sys = dyn.double_pend_rel_dyn(g=9.81, m1=m_bar, moi1=moi, d1=h_bar/2, l1=h_bar, \n",
    "                                            m2=m_bar, moi2=moi, d2=h_bar/2, l2=h_bar, \n",
    "                                        b1=0.0, b2=0.0, shoulder_act=True, elbow_act=False)\n",
    "disc_dyn_func = lambda x, u: gen_ctrl.step_rk4(dpend_sys.cont_dyn_func, dt, x, u)\n"
   ]
  },
  {
   "cell_type": "code",
   "execution_count": 6,
   "metadata": {},
   "outputs": [
    {
     "name": "stdout",
     "output_type": "stream",
     "text": [
      "A mujoco: \n",
      " [[ 0.96852  0.03135  0.05     0.     ]\n",
      " [ 0.04189  0.885    0.       0.05   ]\n",
      " [-0.62957  0.62706  1.       0.     ]\n",
      " [ 0.83775 -2.30005  0.       1.     ]]\n",
      "A dyn: \n",
      " [[ 0.98436  0.01549  0.04974  0.00026]\n",
      " [ 0.02069  0.94309  0.00035  0.04904]\n",
      " [-0.62195  0.61196  0.98436  0.01549]\n",
      " [ 0.81748 -2.25232  0.02069  0.94309]]\n",
      "B mujoco: \n",
      " [[ 0.00427]\n",
      " [-0.01066]\n",
      " [ 0.0854 ]\n",
      " [-0.21324]]\n",
      "B dyn: \n",
      " [[ 0.00212]\n",
      " [-0.00527]\n",
      " [ 0.08385]\n",
      " [-0.20862]]\n"
     ]
    }
   ],
   "source": [
    "mujoco.mj_forward(mj_model, mj_data)\n",
    "A_mj,  B_mj  = mj_funcs.linearize_mujoco_state_and_control(mj_model, mj_data, eps, flg_centered)    \n",
    "A_dyn, B_dyn = gen_ctrl.linearize_dynamics(disc_dyn_func, x_init, u_vec)\n",
    "\n",
    "print('A mujoco: \\n', A_mj)\n",
    "print('A dyn: \\n',    A_dyn)\n",
    "print('B mujoco: \\n', B_mj )\n",
    "print('B dyn: \\n',    B_dyn)"
   ]
  },
  {
   "cell_type": "code",
   "execution_count": 19,
   "metadata": {},
   "outputs": [
    {
     "name": "stdout",
     "output_type": "stream",
     "text": [
      "A mujoco: \n",
      " [[ 0.97848 -0.00429  0.05     0.     ]\n",
      " [ 0.0542   0.99827  0.       0.05   ]\n",
      " [-0.43037 -0.08586  1.       0.     ]\n",
      " [ 1.08404 -0.03458  0.       1.     ]]\n",
      "A dyn: \n",
      " [[ 0.98922 -0.00216  0.04961 -0.00015]\n",
      " [ 0.02699  0.99913  0.00124  0.05019]\n",
      " [-0.43203 -0.08659  0.97648 -0.00885]\n",
      " [ 1.07508 -0.0353   0.07442  1.0111 ]]\n",
      "B mujoco: \n",
      " [[ 0.00224 -0.00405]\n",
      " [-0.00405  0.01482]\n",
      " [ 0.04482 -0.08108]\n",
      " [-0.08108  0.29636]]\n",
      "B dyn: \n",
      " [[ 0.00112 -0.00203]\n",
      " [-0.00201  0.0074 ]\n",
      " [ 0.0447  -0.08161]\n",
      " [-0.07986  0.2953 ]]\n"
     ]
    }
   ],
   "source": [
    "x_vec = np.array([1.0, 1.0, 0.0, 0.0])\n",
    "u_vec = np.array([0.0,0.0])\n",
    "mj_funcs.set_mj_ctrl_vec(mj_data, u_vec)\n",
    "mj_funcs.set_mj_state_vec(mj_data, x_vec)\n",
    "A_mj,  B_mj  = mj_funcs.linearize_mujoco_state_and_control(mj_model, mj_data, eps=1e-6, flg_centered=True)    \n",
    "A_dyn, B_dyn = gen_ctrl.linearize_dynamics(disc_dyn_func, x_vec, u_vec)\n",
    "\n",
    "print('A mujoco: \\n', A_mj)\n",
    "print('A dyn: \\n',    A_dyn)\n",
    "print('B mujoco: \\n', B_mj )\n",
    "print('B dyn: \\n',    B_dyn)"
   ]
  },
  {
   "cell_type": "code",
   "execution_count": null,
   "metadata": {},
   "outputs": [],
   "source": [
    "pot_energy_seq = np.zeros((len_seq,1))\n",
    "kin_energy_seq = np.zeros((len_seq,1))\n",
    "tot_energy_seq = np.zeros((len_seq,1))\n",
    "pot_energy_seq[0] = dpend_sys.calculate_potential_energy(x_init)\n",
    "kin_energy_seq[0] = dpend_sys.calculate_kinetic_energy(x_init)\n",
    "tot_energy_seq[0] = dpend_sys.calculate_total_energy(x_init)"
   ]
  }
 ],
 "metadata": {
  "kernelspec": {
   "display_name": ".venv",
   "language": "python",
   "name": "python3"
  },
  "language_info": {
   "codemirror_mode": {
    "name": "ipython",
    "version": 3
   },
   "file_extension": ".py",
   "mimetype": "text/x-python",
   "name": "python",
   "nbconvert_exporter": "python",
   "pygments_lexer": "ipython3",
   "version": "3.12.3"
  }
 },
 "nbformat": 4,
 "nbformat_minor": 2
}
