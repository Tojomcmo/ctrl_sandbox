{
 "cells": [
  {
   "cell_type": "code",
   "execution_count": 1,
   "metadata": {},
   "outputs": [],
   "source": [
    "import numpy as np\n",
    "import mujoco as mujoco\n",
    "import matplotlib.pyplot as plt\n",
    "import matplotlib.animation as animate\n",
    "import jax.numpy as jnp\n",
    "\n",
    "import mujoco_funcs as mj_funcs\n",
    "import mjcf_models as mj_models\n",
    "import visualize_mj_funcs as mj_vis\n",
    "\n",
    "import dyn_functions as dyn\n",
    "import visualize_dyn_funcs as vis_dyn\n",
    "import gen_ctrl_funcs as gen_ctrl\n",
    "import analyze_ilqr_output_funcs as analyze\n",
    "np.set_printoptions(precision=5, suppress=True, linewidth=100)\n"
   ]
  },
  {
   "cell_type": "code",
   "execution_count": 14,
   "metadata": {},
   "outputs": [],
   "source": [
    "dt = 0.005\n",
    "len_seq = 200\n",
    "time_vec = np.arange(0,len_seq*dt, dt)\n",
    "h_bar = 1.0\n",
    "r_bar = 0.05\n",
    "m_bar = 1.0\n",
    "moi = (1/12)*h_bar*(m_bar**2 + 3*r_bar**2)\n",
    "x_init = np.array([0.0,0.0,0.0, 0.0])\n",
    "u_vec = np.array([0.0]) \n",
    "xu_lin_k = jnp.array(np.concatenate((x_init, u_vec)))\n",
    "x_seq = np.zeros((len_seq, 4))\n",
    "x_seq[0]= x_init"
   ]
  },
  {
   "cell_type": "code",
   "execution_count": 15,
   "metadata": {},
   "outputs": [],
   "source": [
    "mjcf_model  = mj_models.create_MJCF_double_pend_dev()\n",
    "mj_model, mj_render, mj_data = mj_funcs.create_mujoco_model(mjcf_model, dt)"
   ]
  },
  {
   "cell_type": "code",
   "execution_count": 16,
   "metadata": {},
   "outputs": [
    {
     "name": "stdout",
     "output_type": "stream",
     "text": [
      "[0. 0.]\n",
      "[0. 0.]\n",
      "[0.]\n"
     ]
    }
   ],
   "source": [
    "\n",
    "nu = mj_model.nu\n",
    "nx = mj_model.nv    \n",
    "eps = 1e-6\n",
    "A = np.zeros((2*nx, 2*nx))\n",
    "B = np.zeros((2*nx,   nu))\n",
    "flg_centered = False\n",
    "mj_model.opt.timestep = dt\n",
    "mj_data.ctrl = u_vec\n",
    "mujoco.mj_forward(mj_model,mj_data)\n",
    "print(mj_data.qpos)\n",
    "print(mj_data.qvel)\n",
    "print(mj_data.ctrl)"
   ]
  },
  {
   "cell_type": "code",
   "execution_count": 17,
   "metadata": {},
   "outputs": [],
   "source": [
    "dpend_sys = dyn.double_pend_rel_dyn(g=9.81, m1=m_bar, moi1=moi, d1=h_bar/2, l1=h_bar, \n",
    "                                            m2=m_bar, moi2=moi, d2=h_bar/2, l2=h_bar, \n",
    "                                        b1=0.0, b2=0.0, shoulder_act=True, elbow_act=False)\n",
    "disc_dyn_func = lambda x, u: gen_ctrl.step_rk4(dpend_sys.cont_dyn_func, dt, x, u)\n"
   ]
  },
  {
   "cell_type": "code",
   "execution_count": 18,
   "metadata": {},
   "outputs": [
    {
     "name": "stdout",
     "output_type": "stream",
     "text": [
      "A mujoco: \n",
      " [[ 0.99984  0.00016  0.005   -0.     ]\n",
      " [ 0.00021  0.99943  0.       0.005  ]\n",
      " [-0.06295  0.06269  0.99984  0.0001 ]\n",
      " [ 0.08375 -0.22996  0.00021  0.99949]]\n",
      "A dyn: \n",
      " [[ 0.99984  0.00016  0.005    0.     ]\n",
      " [ 0.00021  0.99942  0.       0.005  ]\n",
      " [-0.06296  0.06271  0.99984  0.00016]\n",
      " [ 0.08377 -0.23003  0.00021  0.99942]]\n",
      "B mujoco: \n",
      " [[ 0.00002]\n",
      " [-0.00005]\n",
      " [ 0.00854]\n",
      " [-0.02132]]\n",
      "B dyn: \n",
      " [[ 0.00002]\n",
      " [-0.00005]\n",
      " [ 0.00854]\n",
      " [-0.02133]]\n"
     ]
    }
   ],
   "source": [
    "mujoco.mj_forward(mj_model, mj_data)\n",
    "A_mj,  B_mj  = mj_funcs.linearize_mujoco_state_and_control(mj_model, mj_data, eps, flg_centered)    \n",
    "A_dyn, B_dyn = gen_ctrl.linearize_dynamics(disc_dyn_func, xu_lin_k, len(x_init))\n",
    "\n",
    "print('A mujoco: \\n', A_mj)\n",
    "print('A dyn: \\n',    A_dyn)\n",
    "print('B mujoco: \\n', B_mj )\n",
    "print('B dyn: \\n',    B_dyn)"
   ]
  },
  {
   "cell_type": "code",
   "execution_count": 24,
   "metadata": {},
   "outputs": [
    {
     "name": "stdout",
     "output_type": "stream",
     "text": [
      "A mujoco: \n",
      " [[ 0.99989 -0.00014  0.00505  0.00003]\n",
      " [ 0.00027  1.00035 -0.00018  0.00495]\n",
      " [-0.04258 -0.05625  1.01956  0.01093]\n",
      " [ 0.1089   0.14137 -0.07341  0.98008]]\n",
      "A dyn: \n",
      " [[ 0.99989 -0.00014  0.00505  0.00003]\n",
      " [ 0.00027  1.00035 -0.00019  0.00495]\n",
      " [-0.04259 -0.05626  1.01993  0.01089]\n",
      " [ 0.10891  0.14141 -0.07438  0.98018]]\n",
      "B mujoco: \n",
      " [[ 0.00001]\n",
      " [-0.00002]\n",
      " [ 0.00485]\n",
      " [-0.0088 ]]\n",
      "B dyn: \n",
      " [[ 0.00001]\n",
      " [-0.00002]\n",
      " [ 0.00448]\n",
      " [-0.0082 ]]\n"
     ]
    }
   ],
   "source": [
    "x_vec = np.array([1.0, 1.0, 3.0, 0.0])\n",
    "u_vec = np.array([10.0])\n",
    "xu_k = jnp.concatenate((x_vec, u_vec))\n",
    "mj_funcs.set_mj_ctrl_vec(mj_data, u_vec)\n",
    "mj_funcs.set_mj_state_vec(mj_data, x_vec)\n",
    "A_mj,  B_mj  = mj_funcs.linearize_mujoco_state_and_control(mj_model, mj_data, eps=1e-6, flg_centered=True)    \n",
    "A_dyn, B_dyn = gen_ctrl.linearize_dynamics(disc_dyn_func, xu_k, len(x_vec))\n",
    "\n",
    "print('A mujoco: \\n', A_mj)\n",
    "print('A dyn: \\n',    A_dyn)\n",
    "print('B mujoco: \\n', B_mj )\n",
    "print('B dyn: \\n',    B_dyn)"
   ]
  },
  {
   "cell_type": "code",
   "execution_count": 25,
   "metadata": {},
   "outputs": [],
   "source": [
    "pot_energy_seq = np.zeros((len_seq,1))\n",
    "kin_energy_seq = np.zeros((len_seq,1))\n",
    "tot_energy_seq = np.zeros((len_seq,1))\n",
    "pot_energy_seq[0] = dpend_sys.calculate_potential_energy(x_init)\n",
    "kin_energy_seq[0] = dpend_sys.calculate_kinetic_energy(x_init)\n",
    "tot_energy_seq[0] = dpend_sys.calculate_total_energy(x_init)"
   ]
  }
 ],
 "metadata": {
  "kernelspec": {
   "display_name": ".venv",
   "language": "python",
   "name": "python3"
  },
  "language_info": {
   "codemirror_mode": {
    "name": "ipython",
    "version": 3
   },
   "file_extension": ".py",
   "mimetype": "text/x-python",
   "name": "python",
   "nbconvert_exporter": "python",
   "pygments_lexer": "ipython3",
   "version": "3.12.3"
  }
 },
 "nbformat": 4,
 "nbformat_minor": 2
}
