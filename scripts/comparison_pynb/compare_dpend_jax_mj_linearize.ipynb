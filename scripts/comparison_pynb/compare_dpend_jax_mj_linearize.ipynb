{
    "cells": [
        {
            "cell_type": "code",
            "execution_count": 2,
            "metadata": {},
            "outputs": [],
            "source": [
                "import numpy as np\n",
                "import mujoco as mujoco\n",
                "import matplotlib.pyplot as plt\n",
                "import matplotlib.animation as animate\n",
                "import jax.numpy as jnp\n",
                "\n",
                "import ctrl_sandbox.mujoco_funcs as mj_funcs\n",
                "import ctrl_sandbox.mjcf_models as mj_models\n",
                "import ctrl_sandbox.visualize_mj_funcs as mj_vis\n",
                "\n",
                "import ctrl_sandbox.dyn_functions as dyn\n",
                "import ctrl_sandbox.visualize_dyn_funcs as vis_dyn\n",
                "import ctrl_sandbox.gen_ctrl_funcs as gen_ctrl\n",
                "import ctrl_sandbox.analyze_ilqr_output_funcs as analyze\n",
                "np.set_printoptions(precision=8, suppress=True, linewidth=100)\n"
            ]
        },
        {
            "cell_type": "code",
            "execution_count": 64,
            "metadata": {},
            "outputs": [],
            "source": [
                "dt = 0.01\n",
                "h_bar = 1.0\n",
                "r_bar = 0.05\n",
                "m_bar = 1.0\n",
                "d_bar = h_bar/2\n",
                "moi = (1/12)*h_bar*(m_bar**2 + 3*r_bar**2)"
            ]
        },
        {
            "cell_type": "code",
            "execution_count": 65,
            "metadata": {},
            "outputs": [
                {
                    "name": "stdout",
                    "output_type": "stream",
                    "text": [
                        "[0. 0.]\n",
                        "[0. 0.]\n",
                        "[0. 0.]\n"
                    ]
                }
            ],
            "source": [
                "mjcf_model  = mj_models.create_MJCF_double_pend_fa_dev()\n",
                "mj_model, mj_render, mj_data = mj_funcs.create_mujoco_model(mjcf_model, dt)\n",
                "nu = mj_model.nu\n",
                "nx = mj_model.nv    \n",
                "A = np.zeros((2*nx, 2*nx))\n",
                "B = np.zeros((2*nx,   nu))\n",
                "mujoco.mj_forward(mj_model,mj_data)\n",
                "print(mj_data.qpos)\n",
                "print(mj_data.qvel)\n",
                "print(mj_data.ctrl)"
            ]
        },
        {
            "cell_type": "code",
            "execution_count": 66,
            "metadata": {},
            "outputs": [],
            "source": [
                "dpend_sys = dyn.double_pend_rel_dyn(g=9.81, m1=m_bar, moi1=moi, d1=d_bar, l1=h_bar, \n",
                "                                            m2=m_bar, moi2=moi, d2=d_bar, l2=h_bar, \n",
                "                                        b1=0.0, b2=0.0, shoulder_act=True, elbow_act=True)\n",
                "disc_dyn_func = lambda x, u: integrate.step_rk4(dpend_sys.cont_dyn_func, dt, x, u)\n"
            ]
        },
        {
            "cell_type": "code",
            "execution_count": 67,
            "metadata": {},
            "outputs": [
                {
                    "name": "stdout",
                    "output_type": "stream",
                    "text": [
                        "A mujoco: \n",
                        " [[ 0.99937059  0.00062675  0.00999809 -0.00000001]\n",
                        " [ 0.00083734  0.99770092  0.00000221  0.00999512]\n",
                        " [-0.12585185  0.12528918  0.99938927  0.00041736]\n",
                        " [ 0.16738634 -0.45962222  0.00077924  0.99797894]]\n",
                        "A dyn: \n",
                        " [[ 0.9993705   0.00062697  0.0099979   0.00000209]\n",
                        " [ 0.00083753  0.99770015  0.00000279  0.00999233]\n",
                        " [-0.12586522  0.12533367  0.9993705   0.00062697]\n",
                        " [ 0.16742484 -0.459775    0.00083753  0.99770015]]\n",
                        "B mujoco: \n",
                        " [[ 0.00008537 -0.00021321]\n",
                        " [-0.00021314  0.00068205]\n",
                        " [ 0.01706701 -0.0426164 ]\n",
                        " [-0.04261016  0.13633368]]\n",
                        "B dyn: \n",
                        " [[ 0.00008539 -0.00021321]\n",
                        " [-0.00021321  0.00068209]\n",
                        " [ 0.01707094 -0.04262316]\n",
                        " [-0.04262316  0.13635914]]\n"
                    ]
                }
            ],
            "source": [
                "x_init = np.array([0.0,0.0,0.0,0.0])\n",
                "u_vec = np.array([0.0, 0.0]) \n",
                "xu_lin_k = jnp.array(np.concatenate((x_init, u_vec)))\n",
                "\n",
                "mj_data.ctrl = u_vec\n",
                "mujoco.mj_forward(mj_model, mj_data)\n",
                "A_mj,  B_mj  = mj_funcs.linearize_mujoco_state_and_control(mj_model, mj_data, eps=1e-6, flg_centered=False)    \n",
                "A_dyn, B_dyn = gen_ctrl.linearize_dynamics(disc_dyn_func, xu_lin_k, len(x_init))\n",
                "\n",
                "print('A mujoco: \\n', A_mj)\n",
                "print('A dyn: \\n',    A_dyn)\n",
                "print('B mujoco: \\n', B_mj )\n",
                "print('B dyn: \\n',    B_dyn)"
            ]
        },
        {
            "cell_type": "code",
            "execution_count": 70,
            "metadata": {},
            "outputs": [
                {
                    "name": "stdout",
                    "output_type": "stream",
                    "text": [
                        "A mujoco: \n",
                        " [[ 0.99957455  0.0006732   0.01006634  0.00008042]\n",
                        " [ 0.001081    0.99822208 -0.00020739  0.00985319]\n",
                        " [-0.08454954  0.13394367  1.01714567  0.01664101]\n",
                        " [ 0.21577407 -0.3529352  -0.05109887  0.96937231]]\n",
                        "A dyn: \n",
                        " [[ 0.99957454  0.00067336  0.01010536  0.00008076]\n",
                        " [ 0.00108115  0.9982216  -0.00031057  0.00985184]\n",
                        " [-0.08455643  0.13397464  1.0210048   0.01667596]\n",
                        " [ 0.2158029  -0.3530341  -0.06138198  0.9692345 ]]\n",
                        "B mujoco: \n",
                        " [[ 0.00002544 -0.00007974]\n",
                        " [-0.00012933  0.00029366]\n",
                        " [ 0.00691697 -0.01578229]\n",
                        " [-0.02084213  0.05849685]]\n",
                        "B dyn: \n",
                        " [[ 0.0000446  -0.00007966]\n",
                        " [-0.00008082  0.00029406]\n",
                        " [ 0.00889476 -0.01577491]\n",
                        " [-0.0161259   0.05853998]]\n"
                    ]
                }
            ],
            "source": [
                "x_vec = np.array([3.1, 0.1, 0.0, 0.0])\n",
                "u_vec = np.array([10.0,10.0])\n",
                "xu_k = jnp.concatenate((x_vec, u_vec))\n",
                "mj_funcs.set_mj_ctrl_vec(mj_data, u_vec)\n",
                "mj_funcs.set_mj_state_vec(mj_data, x_vec)\n",
                "mujoco.mj_forward(mj_model, mj_data)\n",
                "A_mj,  B_mj  = mj_funcs.linearize_mujoco_state_and_control(mj_model, mj_data, eps=1e-6, flg_centered=True)    \n",
                "A_dyn, B_dyn = gen_ctrl.linearize_dynamics(disc_dyn_func, xu_k, len(x_vec))\n",
                "\n",
                "print('A mujoco: \\n', A_mj)\n",
                "print('A dyn: \\n',    A_dyn)\n",
                "print('B mujoco: \\n', B_mj )\n",
                "print('B dyn: \\n',    B_dyn)"
            ]
        }
    ],
    "metadata": {
        "kernelspec": {
            "display_name": ".venv",
            "language": "python",
            "name": "python3"
        },
        "language_info": {
            "codemirror_mode": {
                "name": "ipython",
                "version": 3
            },
            "file_extension": ".py",
            "mimetype": "text/x-python",
            "name": "python",
            "nbconvert_exporter": "python",
            "pygments_lexer": "ipython3",
            "version": "3.12.3"
        }
    },
    "nbformat": 4,
    "nbformat_minor": 2
}
