{
 "cells": [
  {
   "cell_type": "code",
   "execution_count": 1,
   "metadata": {},
   "outputs": [],
   "source": [
    "import numpy as np\n",
    "import mujoco as mujoco\n",
    "import matplotlib.pyplot as plt\n",
    "import matplotlib.animation as animate\n",
    "import jax.numpy as jnp\n",
    "\n",
    "import mujoco_funcs as mj_funcs\n",
    "import mjcf_models as mj_models\n",
    "import visualize_mj_funcs as mj_vis\n",
    "\n",
    "import dyn_functions as dyn\n",
    "import visualize_dyn_funcs as vis_dyn\n",
    "import gen_ctrl_funcs as gen_ctrl\n",
    "import analyze_ilqr_output_funcs as analyze\n",
    "np.set_printoptions(precision=5, suppress=True, linewidth=100)\n"
   ]
  },
  {
   "cell_type": "code",
   "execution_count": 2,
   "metadata": {},
   "outputs": [],
   "source": [
    "dt = 0.05\n",
    "len_seq = 200\n",
    "time_vec = np.arange(0,len_seq*dt, dt)\n",
    "h_bar = 1.0\n",
    "r_bar = 0.05\n",
    "m_bar = 1.0\n",
    "moi = (1/12)*h_bar*(m_bar**2 + 3*r_bar**2)\n",
    "x_init = np.array([0.0, 0.0])\n",
    "u_lin = np.array([0.0]) \n",
    "x_seq = np.zeros((len_seq, len(x_init)))\n",
    "x_seq[0]= x_init"
   ]
  },
  {
   "cell_type": "code",
   "execution_count": 3,
   "metadata": {},
   "outputs": [],
   "source": [
    "mjcf_model  = mj_models.create_MJCF_single_pend_dev()\n",
    "mj_model, mj_render, mj_data = mj_funcs.create_mujoco_model(mjcf_model, dt)"
   ]
  },
  {
   "cell_type": "code",
   "execution_count": 4,
   "metadata": {},
   "outputs": [
    {
     "name": "stdout",
     "output_type": "stream",
     "text": [
      "[0.]\n",
      "[0.]\n",
      "[0.]\n"
     ]
    }
   ],
   "source": [
    "\n",
    "nu = mj_model.nu\n",
    "nx = mj_model.nv    \n",
    "eps = 1e-6\n",
    "A = np.zeros((2*nx, 2*nx))\n",
    "B = np.zeros((2*nx,   nu))\n",
    "flg_centered = False\n",
    "mj_model.opt.timestep = dt\n",
    "mj_data.ctrl = u_lin\n",
    "mujoco.mj_forward(mj_model,mj_data)\n",
    "print(mj_data.qpos)\n",
    "print(mj_data.qvel)\n",
    "print(mj_data.ctrl)"
   ]
  },
  {
   "cell_type": "code",
   "execution_count": 5,
   "metadata": {},
   "outputs": [],
   "source": [
    "pend_sys = dyn.single_pend_dyn(m_bar,moi, g=9.81,b=0.0,l=h_bar/2)\n",
    "disc_dyn_func = lambda x, u: gen_ctrl.step_rk4(pend_sys.cont_dyn_func, dt, x, u)\n"
   ]
  },
  {
   "cell_type": "code",
   "execution_count": 6,
   "metadata": {},
   "outputs": [
    {
     "name": "stdout",
     "output_type": "stream",
     "text": [
      "A mujoco: \n",
      " [[ 0.9817   0.04986]\n",
      " [-0.72979  0.9849 ]]\n",
      "A dyn: \n",
      " [[ 0.9817   0.04969]\n",
      " [-0.72988  0.9817 ]]\n",
      "B mujoco: \n",
      " [[0.00374]\n",
      " [0.14901]]\n",
      "B dyn: \n",
      " [[0.00373]\n",
      " [0.1488 ]]\n",
      "mj predicted: \n",
      " [[0.00037]\n",
      " [0.0149 ]]\n",
      "dyn predicted rk4: \n",
      " [[0.00037]\n",
      " [0.01488]]\n",
      "mj simulated: \n",
      " [0.00037 0.01488]\n",
      "dyn simulated ivp: \n",
      " [[0.00037]\n",
      " [0.01488]]\n"
     ]
    }
   ],
   "source": [
    "x_lin = np.array([0.0, 0.0])\n",
    "u_lin = np.array([0.0])\n",
    "mj_funcs.set_mj_ctrl_vec(mj_data, u_lin)\n",
    "mj_funcs.set_mj_state_vec(mj_data, x_lin)\n",
    "mujoco.mj_forward(mj_model, mj_data)\n",
    "A_mj,  B_mj  = mj_funcs.linearize_mujoco_state_and_control(mj_model, mj_data, eps=1e-6, flg_centered=True)    \n",
    "x_lin_jax = jnp.array(x_lin)\n",
    "u_lin_jax = jnp.array(u_lin)\n",
    "xu_lin_jax = jnp.concatenate((x_lin_jax, u_lin_jax))\n",
    "A_dyn, B_dyn = gen_ctrl.linearize_dynamics(disc_dyn_func, xu_lin_jax, len(x_lin))\n",
    "\n",
    "\n",
    "\n",
    "print('A mujoco: \\n', A_mj)\n",
    "print('A dyn: \\n',    A_dyn)\n",
    "print('B mujoco: \\n', B_mj )\n",
    "print('B dyn: \\n',    B_dyn)\n",
    "\n",
    "x_k = np.array([0.0,0.0])\n",
    "u_k = np.array([0.1])\n",
    "\n",
    "x_kp1_pred_mj = A_mj @ x_k.reshape(-1,1) + B_mj @ u_k.reshape(-1,1)\n",
    "x_kp1_pred_dyn = A_dyn @ x_k.reshape(-1,1) + B_dyn @ u_k.reshape(-1,1)\n",
    "\n",
    "mj_funcs.set_mj_ctrl_vec(mj_data, u_k)\n",
    "mj_funcs.set_mj_state_vec(mj_data, x_k)\n",
    "mujoco.mj_forward(mj_model, mj_data)\n",
    "mujoco.mj_step(mj_model, mj_data)\n",
    "\n",
    "x_kp1_mj = mj_funcs.get_state_vec(mj_data)\n",
    "\n",
    "\n",
    "x_kp1_ivp = gen_ctrl.step_solve_ivp(pend_sys.cont_dyn_func, dt, x_k, u_k)\n",
    "\n",
    "print('mj predicted: \\n', x_kp1_pred_mj)\n",
    "print('dyn predicted rk4: \\n', x_kp1_pred_dyn)\n",
    "print('mj simulated: \\n', x_kp1_mj)\n",
    "print('dyn simulated ivp: \\n', x_kp1_ivp)"
   ]
  }
 ],
 "metadata": {
  "kernelspec": {
   "display_name": ".venv",
   "language": "python",
   "name": "python3"
  },
  "language_info": {
   "codemirror_mode": {
    "name": "ipython",
    "version": 3
   },
   "file_extension": ".py",
   "mimetype": "text/x-python",
   "name": "python",
   "nbconvert_exporter": "python",
   "pygments_lexer": "ipython3",
   "version": "3.12.3"
  }
 },
 "nbformat": 4,
 "nbformat_minor": 2
}
